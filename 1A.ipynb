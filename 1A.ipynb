{
 "cells": [
  {
   "cell_type": "code",
   "execution_count": 49,
   "metadata": {},
   "outputs": [],
   "source": [
    "import numpy as np\n",
    "from scipy.spatial import distance\n",
    "from sklearn.model_selection import train_test_split\n",
    "from sklearn.neighbors import KNeighborsClassifier\n",
    "from sklearn.model_selection import GridSearchCV\n",
    "from sklearn.metrics import classification_report\n",
    "import pandas as pd"
   ]
  },
  {
   "cell_type": "code",
   "execution_count": 2,
   "metadata": {},
   "outputs": [],
   "source": [
    "seed = 0\n",
    "np.random.seed(seed)"
   ]
  },
  {
   "cell_type": "code",
   "execution_count": 3,
   "metadata": {},
   "outputs": [],
   "source": [
    "train_file = 'data/Beef_TRAIN'"
   ]
  },
  {
   "cell_type": "code",
   "execution_count": 4,
   "metadata": {},
   "outputs": [],
   "source": [
    "test_file = 'data/Beef_TEST'"
   ]
  },
  {
   "attachments": {},
   "cell_type": "markdown",
   "metadata": {},
   "source": [
    "# Prep Train Data"
   ]
  },
  {
   "cell_type": "code",
   "execution_count": 5,
   "metadata": {},
   "outputs": [],
   "source": [
    "train_data = np.loadtxt(train_file)"
   ]
  },
  {
   "cell_type": "code",
   "execution_count": 6,
   "metadata": {},
   "outputs": [],
   "source": [
    "np.random.shuffle(train_data)"
   ]
  },
  {
   "cell_type": "code",
   "execution_count": 7,
   "metadata": {},
   "outputs": [],
   "source": [
    "X_train = train_data[:,1:]"
   ]
  },
  {
   "cell_type": "code",
   "execution_count": 8,
   "metadata": {},
   "outputs": [],
   "source": [
    "y_train = train_data[:,0]"
   ]
  },
  {
   "cell_type": "code",
   "execution_count": 9,
   "metadata": {},
   "outputs": [
    {
     "name": "stdout",
     "output_type": "stream",
     "text": [
      "[ 0.05932   0.059252  0.059367  0.059677  0.060162  0.060548  0.061128\n",
      "  0.061507  0.06174   0.062208  0.063082  0.063917  0.064914  0.065933\n",
      "  0.066705  0.067779  0.069004  0.070079  0.071097  0.072026  0.072972\n",
      "  0.074065  0.074961  0.075688  0.076339  0.077263  0.077875  0.078381\n",
      "  0.079081  0.079974  0.080479  0.080593  0.081714  0.08269   0.083475\n",
      "  0.084856  0.086031  0.087057  0.087752  0.088645  0.089918  0.090997\n",
      "  0.092619  0.094209  0.095676  0.097526  0.099507  0.101466  0.103168\n",
      "  0.104676  0.106047  0.107261  0.108482  0.109722  0.110691  0.111015\n",
      "  0.110353  0.10901   0.107401  0.106395  0.105731  0.105195  0.105676\n",
      "  0.106562  0.107589  0.108637  0.108813  0.108071  0.105878  0.102527\n",
      "  0.099287  0.097013  0.096188  0.096435  0.098962  0.103803  0.109379\n",
      "  0.11531   0.121071  0.125988  0.129832  0.132161  0.133751  0.136124\n",
      "  0.138426  0.13993   0.141581  0.143068  0.143892  0.143858  0.142706\n",
      "  0.141114  0.139034  0.13648   0.13391   0.130977  0.126984  0.122589\n",
      "  0.11776   0.112727  0.108143  0.104114  0.100705  0.097911  0.095798\n",
      "  0.094098  0.092661  0.091343  0.08979   0.08809   0.086852  0.08614\n",
      "  0.086033  0.085994  0.086353  0.087099  0.087707  0.088584  0.089602\n",
      "  0.090517  0.09123   0.091992  0.093033  0.09411   0.095121  0.096064\n",
      "  0.096595  0.097153  0.09751   0.097448  0.096886  0.095658  0.093995\n",
      "  0.091807  0.089864  0.087777  0.085738  0.084268  0.082966  0.082034\n",
      "  0.080984  0.079884  0.078915  0.077986  0.07695   0.075885  0.07485\n",
      "  0.073953  0.073686  0.073775  0.073541  0.072735  0.071896  0.070886\n",
      "  0.069935  0.069098  0.068718  0.068785  0.068895  0.068949  0.069136\n",
      "  0.069856  0.070603  0.071086  0.071464  0.071699  0.071458  0.070705\n",
      "  0.06997   0.06948   0.068783  0.067789  0.067096  0.066417  0.065161\n",
      "  0.064238  0.063928  0.063793  0.064126  0.064905  0.065722  0.0663\n",
      "  0.066976  0.067915  0.068554  0.068849  0.069237  0.069543  0.069741\n",
      "  0.069992  0.07019   0.070455  0.071145  0.071708  0.072235  0.073081\n",
      "  0.073964  0.074658  0.075583  0.077065  0.079439  0.081768  0.081946\n",
      "  0.080535  0.079325  0.07894   0.078629  0.078504  0.079318  0.080281\n",
      "  0.080532  0.080284  0.08042   0.079949  0.079926  0.079045  0.076789\n",
      "  0.075446  0.074849  0.07507   0.075697  0.075842  0.075808  0.07337\n",
      "  0.071723  0.070946  0.069331  0.069677  0.071091  0.072613  0.074793\n",
      "  0.077001  0.078911  0.081158  0.083263  0.084915  0.086633  0.088469\n",
      "  0.090762  0.093574  0.097353  0.101854  0.104115  0.102178  0.10271\n",
      "  0.104058  0.104112  0.102742  0.098155  0.088327  0.076607  0.062576\n",
      "  0.056944  0.052695  0.050938  0.050015  0.049394  0.049649  0.050486\n",
      "  0.051182  0.051554  0.052744  0.054356  0.055425  0.0568    0.058621\n",
      "  0.060676  0.063361  0.066483  0.069183  0.072189  0.075381  0.078994\n",
      "  0.081518  0.083005  0.085018  0.086171  0.088217  0.09042   0.091335\n",
      "  0.092498  0.093814  0.093961  0.093118  0.093829  0.093848  0.092692\n",
      "  0.093937  0.094382  0.094886  0.094379  0.09218   0.090722  0.087334\n",
      "  0.085218  0.08175   0.074321  0.074586  0.072621  0.069231  0.067098\n",
      "  0.062448  0.058985  0.057728  0.054447  0.049355  0.046949  0.043962\n",
      "  0.040922  0.038115  0.035394  0.032434  0.029521  0.026718  0.023901\n",
      "  0.021567  0.019432  0.017208  0.01517   0.013434  0.012775  0.012984\n",
      "  0.013077  0.013077  0.013548  0.012874  0.009683  0.007931  0.006111\n",
      "  0.001994 -0.000415 -0.002893 -0.006331 -0.008298 -0.009023 -0.00992\n",
      " -0.012821 -0.013277 -0.013628 -0.013409 -0.011958 -0.011285 -0.012046\n",
      " -0.010271 -0.008248 -0.011508 -0.011847 -0.01149  -0.010908 -0.011496\n",
      " -0.011858 -0.010655 -0.00921  -0.008771 -0.007742 -0.006266 -0.004894\n",
      " -0.003013 -0.0012    0.000556  0.002433  0.00408   0.005682  0.007195\n",
      "  0.009081  0.011564  0.013211  0.013916  0.015452  0.016384  0.017723\n",
      "  0.019975  0.022023  0.023843  0.026339  0.029071  0.032581  0.036581\n",
      "  0.041278  0.045928  0.051448  0.05958   0.068716  0.077591  0.087274\n",
      "  0.098925  0.113381  0.139392  0.155745  0.17651   0.190408  0.195722\n",
      "  0.191959  0.180692  0.161126  0.139653  0.116709  0.100961  0.079877\n",
      "  0.064956  0.054934  0.04498   0.039596  0.036421  0.033692  0.032576\n",
      "  0.03115   0.029906  0.029702  0.02962   0.029521  0.029311  0.029246\n",
      "  0.029303  0.029247  0.029275  0.029336  0.029279  0.029172  0.029216\n",
      "  0.029161  0.029203  0.029232  0.029176  0.029174  0.029292  0.029566\n",
      "  0.029869  0.030058  0.029991  0.029919  0.030043  0.029956  0.029873\n",
      "  0.029905  0.029879  0.029586  0.02962   0.029833  0.029831  0.029866\n",
      "  0.029864  0.029933  0.030007  0.030045  0.029957  0.029716  0.029694\n",
      "  0.029494  0.029368  0.029356  0.029458  0.029453  0.029168  0.029171\n",
      "  0.02923   0.028957  0.028914  0.028956  0.02879   0.028683  0.028532\n",
      "  0.028413  0.02844   0.028212  0.028006  0.027793  0.027667  0.02767\n",
      "  0.027367]\n"
     ]
    }
   ],
   "source": [
    "print(X_train[0])"
   ]
  },
  {
   "cell_type": "code",
   "execution_count": 10,
   "metadata": {},
   "outputs": [
    {
     "name": "stdout",
     "output_type": "stream",
     "text": [
      "[1. 5. 3. 2. 5. 5. 5. 2. 3. 4. 1. 3. 2. 3. 4. 4. 1. 5. 2. 1. 4. 4. 2. 2.\n",
      " 5. 1. 1. 4. 3. 3.]\n"
     ]
    }
   ],
   "source": [
    "print(y_train)"
   ]
  },
  {
   "attachments": {},
   "cell_type": "markdown",
   "metadata": {},
   "source": [
    "# Prep Test Data"
   ]
  },
  {
   "cell_type": "code",
   "execution_count": 11,
   "metadata": {},
   "outputs": [],
   "source": [
    "test_data = np.loadtxt(test_file)"
   ]
  },
  {
   "cell_type": "code",
   "execution_count": 12,
   "metadata": {},
   "outputs": [],
   "source": [
    "np.random.shuffle(test_data)"
   ]
  },
  {
   "cell_type": "code",
   "execution_count": 13,
   "metadata": {},
   "outputs": [],
   "source": [
    "X_test = test_data[:,1:]"
   ]
  },
  {
   "cell_type": "code",
   "execution_count": 14,
   "metadata": {},
   "outputs": [],
   "source": [
    "y_test = test_data[:,0]"
   ]
  },
  {
   "cell_type": "code",
   "execution_count": null,
   "metadata": {},
   "outputs": [],
   "source": [
    "print(X_test[0])"
   ]
  },
  {
   "cell_type": "code",
   "execution_count": null,
   "metadata": {},
   "outputs": [],
   "source": [
    "print(y_test[0])"
   ]
  },
  {
   "cell_type": "code",
   "execution_count": null,
   "metadata": {},
   "outputs": [],
   "source": [
    "print(type(X_test[0][1]))"
   ]
  },
  {
   "attachments": {},
   "cell_type": "markdown",
   "metadata": {},
   "source": [
    "# Train Model"
   ]
  },
  {
   "cell_type": "code",
   "execution_count": 15,
   "metadata": {},
   "outputs": [],
   "source": [
    "def DTW(a, b):\n",
    "    # ถ้า DTW  ทำช้าอาจต้องทำ sampling เพื่อลดปริมาณ data ทำ DTW จะได้เร็วขึ้น    \n",
    "    an = a.size\n",
    "    bn = b.size\n",
    "    pointwise_distance = distance.cdist(a.reshape(-1,1),b.reshape(-1,1))\n",
    "    cumdist = np.matrix(np.ones((an+1,bn+1)) * np.inf)\n",
    "    cumdist[0,0] = 0\n",
    "    \n",
    "    for ai in range(an):\n",
    "        for bi in range(bn):\n",
    "            minimum_cost = np.min([cumdist[ai, bi+1],\n",
    "                                   cumdist[ai+1, bi],\n",
    "                                   cumdist[ai, bi]])\n",
    "            cumdist[ai+1, bi+1] = pointwise_distance[ai,bi] + minimum_cost\n",
    "\n",
    "    return cumdist[an, bn]"
   ]
  },
  {
   "cell_type": "code",
   "execution_count": 52,
   "metadata": {},
   "outputs": [],
   "source": [
    "def DTWWithWeightNeighborCell(a,b,**kwargs):\n",
    "    # print(\"weight\",kwargs[\"alpha\"],kwargs[\"beta\"],kwargs[\"gamma\"])\n",
    "    an = a.size\n",
    "    bn = b.size\n",
    "    pointwise_distance = distance.cdist(a.reshape(-1,1),b.reshape(-1,1))\n",
    "    cumdist = np.matrix(np.ones((an+1,bn+1)) * np.inf)\n",
    "    cumdist[0,0] = 0\n",
    "    \n",
    "    for ai in range(an):\n",
    "        for bi in range(bn):\n",
    "            minimum_cost = np.min([kwargs[\"alpha\"]*cumdist[ai, bi+1],\n",
    "                                   kwargs[\"beta\"]*cumdist[ai+1, bi],\n",
    "                                   kwargs[\"gamma\"]*cumdist[ai, bi]])\n",
    "            cumdist[ai+1, bi+1] = pointwise_distance[ai,bi] + minimum_cost\n",
    "\n",
    "    return cumdist[an, bn]"
   ]
  },
  {
   "cell_type": "code",
   "execution_count": null,
   "metadata": {},
   "outputs": [],
   "source": [
    "clf = KNeighborsClassifier(metric =DTW,n_neighbors=1,n_jobs=-1)\n",
    "clf.fit(X_train[0:5], y_train[0:5])"
   ]
  },
  {
   "attachments": {},
   "cell_type": "markdown",
   "metadata": {},
   "source": [
    "# Test Model"
   ]
  },
  {
   "cell_type": "code",
   "execution_count": null,
   "metadata": {},
   "outputs": [],
   "source": [
    "y_pred = clf.predict(X_test[0:5])"
   ]
  },
  {
   "cell_type": "code",
   "execution_count": null,
   "metadata": {},
   "outputs": [],
   "source": [
    "print(classification_report(y_test[0:5], y_pred[0:5]))"
   ]
  },
  {
   "attachments": {},
   "cell_type": "markdown",
   "metadata": {},
   "source": [
    "# Create Model with weight neighboring cells"
   ]
  },
  {
   "cell_type": "code",
   "execution_count": 56,
   "metadata": {},
   "outputs": [
    {
     "name": "stdout",
     "output_type": "stream",
     "text": [
      "Fitting 2 folds for each of 2 candidates, totalling 4 fits\n",
      "[CV 1/2; 1/2] START metric_params={'alpha': 1, 'beta': 1, 'gamma': 1}, n_neighbors=1\n",
      "[CV 1/2; 1/2] END metric_params={'alpha': 1, 'beta': 1, 'gamma': 1}, n_neighbors=1;, score=0.333 total time= 7.7min\n",
      "[CV 2/2; 1/2] START metric_params={'alpha': 1, 'beta': 1, 'gamma': 1}, n_neighbors=1\n",
      "[CV 2/2; 1/2] END metric_params={'alpha': 1, 'beta': 1, 'gamma': 1}, n_neighbors=1;, score=0.400 total time= 7.6min\n",
      "[CV 1/2; 2/2] START metric_params={'alpha': 1, 'beta': 1, 'gamma': 2}, n_neighbors=1\n",
      "[CV 1/2; 2/2] END metric_params={'alpha': 1, 'beta': 1, 'gamma': 2}, n_neighbors=1;, score=0.333 total time= 7.8min\n",
      "[CV 2/2; 2/2] START metric_params={'alpha': 1, 'beta': 1, 'gamma': 2}, n_neighbors=1\n",
      "[CV 2/2; 2/2] END metric_params={'alpha': 1, 'beta': 1, 'gamma': 2}, n_neighbors=1;, score=0.400 total time= 7.6min\n"
     ]
    },
    {
     "data": {
      "text/html": [
       "<style>#sk-container-id-9 {color: black;background-color: white;}#sk-container-id-9 pre{padding: 0;}#sk-container-id-9 div.sk-toggleable {background-color: white;}#sk-container-id-9 label.sk-toggleable__label {cursor: pointer;display: block;width: 100%;margin-bottom: 0;padding: 0.3em;box-sizing: border-box;text-align: center;}#sk-container-id-9 label.sk-toggleable__label-arrow:before {content: \"▸\";float: left;margin-right: 0.25em;color: #696969;}#sk-container-id-9 label.sk-toggleable__label-arrow:hover:before {color: black;}#sk-container-id-9 div.sk-estimator:hover label.sk-toggleable__label-arrow:before {color: black;}#sk-container-id-9 div.sk-toggleable__content {max-height: 0;max-width: 0;overflow: hidden;text-align: left;background-color: #f0f8ff;}#sk-container-id-9 div.sk-toggleable__content pre {margin: 0.2em;color: black;border-radius: 0.25em;background-color: #f0f8ff;}#sk-container-id-9 input.sk-toggleable__control:checked~div.sk-toggleable__content {max-height: 200px;max-width: 100%;overflow: auto;}#sk-container-id-9 input.sk-toggleable__control:checked~label.sk-toggleable__label-arrow:before {content: \"▾\";}#sk-container-id-9 div.sk-estimator input.sk-toggleable__control:checked~label.sk-toggleable__label {background-color: #d4ebff;}#sk-container-id-9 div.sk-label input.sk-toggleable__control:checked~label.sk-toggleable__label {background-color: #d4ebff;}#sk-container-id-9 input.sk-hidden--visually {border: 0;clip: rect(1px 1px 1px 1px);clip: rect(1px, 1px, 1px, 1px);height: 1px;margin: -1px;overflow: hidden;padding: 0;position: absolute;width: 1px;}#sk-container-id-9 div.sk-estimator {font-family: monospace;background-color: #f0f8ff;border: 1px dotted black;border-radius: 0.25em;box-sizing: border-box;margin-bottom: 0.5em;}#sk-container-id-9 div.sk-estimator:hover {background-color: #d4ebff;}#sk-container-id-9 div.sk-parallel-item::after {content: \"\";width: 100%;border-bottom: 1px solid gray;flex-grow: 1;}#sk-container-id-9 div.sk-label:hover label.sk-toggleable__label {background-color: #d4ebff;}#sk-container-id-9 div.sk-serial::before {content: \"\";position: absolute;border-left: 1px solid gray;box-sizing: border-box;top: 0;bottom: 0;left: 50%;z-index: 0;}#sk-container-id-9 div.sk-serial {display: flex;flex-direction: column;align-items: center;background-color: white;padding-right: 0.2em;padding-left: 0.2em;position: relative;}#sk-container-id-9 div.sk-item {position: relative;z-index: 1;}#sk-container-id-9 div.sk-parallel {display: flex;align-items: stretch;justify-content: center;background-color: white;position: relative;}#sk-container-id-9 div.sk-item::before, #sk-container-id-9 div.sk-parallel-item::before {content: \"\";position: absolute;border-left: 1px solid gray;box-sizing: border-box;top: 0;bottom: 0;left: 50%;z-index: -1;}#sk-container-id-9 div.sk-parallel-item {display: flex;flex-direction: column;z-index: 1;position: relative;background-color: white;}#sk-container-id-9 div.sk-parallel-item:first-child::after {align-self: flex-end;width: 50%;}#sk-container-id-9 div.sk-parallel-item:last-child::after {align-self: flex-start;width: 50%;}#sk-container-id-9 div.sk-parallel-item:only-child::after {width: 0;}#sk-container-id-9 div.sk-dashed-wrapped {border: 1px dashed gray;margin: 0 0.4em 0.5em 0.4em;box-sizing: border-box;padding-bottom: 0.4em;background-color: white;}#sk-container-id-9 div.sk-label label {font-family: monospace;font-weight: bold;display: inline-block;line-height: 1.2em;}#sk-container-id-9 div.sk-label-container {text-align: center;}#sk-container-id-9 div.sk-container {/* jupyter's `normalize.less` sets `[hidden] { display: none; }` but bootstrap.min.css set `[hidden] { display: none !important; }` so we also need the `!important` here to be able to override the default hidden behavior on the sphinx rendered scikit-learn.org. See: https://github.com/scikit-learn/scikit-learn/issues/21755 */display: inline-block !important;position: relative;}#sk-container-id-9 div.sk-text-repr-fallback {display: none;}</style><div id=\"sk-container-id-9\" class=\"sk-top-container\"><div class=\"sk-text-repr-fallback\"><pre>GridSearchCV(cv=2,\n",
       "             estimator=KNeighborsClassifier(metric=&lt;function DTWWithWeightNeighborCell at 0x000001A373B5AD40&gt;),\n",
       "             param_grid={&#x27;metric_params&#x27;: [{&#x27;alpha&#x27;: 1, &#x27;beta&#x27;: 1, &#x27;gamma&#x27;: 1},\n",
       "                                           {&#x27;alpha&#x27;: 1, &#x27;beta&#x27;: 1, &#x27;gamma&#x27;: 2}],\n",
       "                         &#x27;n_neighbors&#x27;: [1]},\n",
       "             verbose=10)</pre><b>In a Jupyter environment, please rerun this cell to show the HTML representation or trust the notebook. <br />On GitHub, the HTML representation is unable to render, please try loading this page with nbviewer.org.</b></div><div class=\"sk-container\" hidden><div class=\"sk-item sk-dashed-wrapped\"><div class=\"sk-label-container\"><div class=\"sk-label sk-toggleable\"><input class=\"sk-toggleable__control sk-hidden--visually\" id=\"sk-estimator-id-25\" type=\"checkbox\" ><label for=\"sk-estimator-id-25\" class=\"sk-toggleable__label sk-toggleable__label-arrow\">GridSearchCV</label><div class=\"sk-toggleable__content\"><pre>GridSearchCV(cv=2,\n",
       "             estimator=KNeighborsClassifier(metric=&lt;function DTWWithWeightNeighborCell at 0x000001A373B5AD40&gt;),\n",
       "             param_grid={&#x27;metric_params&#x27;: [{&#x27;alpha&#x27;: 1, &#x27;beta&#x27;: 1, &#x27;gamma&#x27;: 1},\n",
       "                                           {&#x27;alpha&#x27;: 1, &#x27;beta&#x27;: 1, &#x27;gamma&#x27;: 2}],\n",
       "                         &#x27;n_neighbors&#x27;: [1]},\n",
       "             verbose=10)</pre></div></div></div><div class=\"sk-parallel\"><div class=\"sk-parallel-item\"><div class=\"sk-item\"><div class=\"sk-label-container\"><div class=\"sk-label sk-toggleable\"><input class=\"sk-toggleable__control sk-hidden--visually\" id=\"sk-estimator-id-26\" type=\"checkbox\" ><label for=\"sk-estimator-id-26\" class=\"sk-toggleable__label sk-toggleable__label-arrow\">estimator: KNeighborsClassifier</label><div class=\"sk-toggleable__content\"><pre>KNeighborsClassifier(metric=&lt;function DTWWithWeightNeighborCell at 0x000001A373B5AD40&gt;)</pre></div></div></div><div class=\"sk-serial\"><div class=\"sk-item\"><div class=\"sk-estimator sk-toggleable\"><input class=\"sk-toggleable__control sk-hidden--visually\" id=\"sk-estimator-id-27\" type=\"checkbox\" ><label for=\"sk-estimator-id-27\" class=\"sk-toggleable__label sk-toggleable__label-arrow\">KNeighborsClassifier</label><div class=\"sk-toggleable__content\"><pre>KNeighborsClassifier(metric=&lt;function DTWWithWeightNeighborCell at 0x000001A373B5AD40&gt;)</pre></div></div></div></div></div></div></div></div></div></div>"
      ],
      "text/plain": [
       "GridSearchCV(cv=2,\n",
       "             estimator=KNeighborsClassifier(metric=<function DTWWithWeightNeighborCell at 0x000001A373B5AD40>),\n",
       "             param_grid={'metric_params': [{'alpha': 1, 'beta': 1, 'gamma': 1},\n",
       "                                           {'alpha': 1, 'beta': 1, 'gamma': 2}],\n",
       "                         'n_neighbors': [1]},\n",
       "             verbose=10)"
      ]
     },
     "execution_count": 56,
     "metadata": {},
     "output_type": "execute_result"
    }
   ],
   "source": [
    "parameters = {'n_neighbors':[1],'metric_params':[{\"alpha\":1,\"beta\":1,\"gamma\":1},{\"alpha\":1,\"beta\":1,\"gamma\":2}]}\n",
    "clf = GridSearchCV(KNeighborsClassifier(metric =DTWWithWeightNeighborCell), parameters, cv=2,verbose=10,n_jobs=-1)\n",
    "clf.fit(X_train, y_train)"
   ]
  },
  {
   "cell_type": "code",
   "execution_count": 57,
   "metadata": {},
   "outputs": [
    {
     "data": {
      "text/html": [
       "<div>\n",
       "<style scoped>\n",
       "    .dataframe tbody tr th:only-of-type {\n",
       "        vertical-align: middle;\n",
       "    }\n",
       "\n",
       "    .dataframe tbody tr th {\n",
       "        vertical-align: top;\n",
       "    }\n",
       "\n",
       "    .dataframe thead th {\n",
       "        text-align: right;\n",
       "    }\n",
       "</style>\n",
       "<table border=\"1\" class=\"dataframe\">\n",
       "  <thead>\n",
       "    <tr style=\"text-align: right;\">\n",
       "      <th></th>\n",
       "      <th>mean_fit_time</th>\n",
       "      <th>std_fit_time</th>\n",
       "      <th>mean_score_time</th>\n",
       "      <th>std_score_time</th>\n",
       "      <th>param_metric_params</th>\n",
       "      <th>param_n_neighbors</th>\n",
       "      <th>params</th>\n",
       "      <th>split0_test_score</th>\n",
       "      <th>split1_test_score</th>\n",
       "      <th>mean_test_score</th>\n",
       "      <th>std_test_score</th>\n",
       "      <th>rank_test_score</th>\n",
       "    </tr>\n",
       "  </thead>\n",
       "  <tbody>\n",
       "    <tr>\n",
       "      <th>0</th>\n",
       "      <td>0.000500</td>\n",
       "      <td>0.000500</td>\n",
       "      <td>459.195146</td>\n",
       "      <td>1.483151</td>\n",
       "      <td>{'alpha': 1, 'beta': 1, 'gamma': 1}</td>\n",
       "      <td>1</td>\n",
       "      <td>{'metric_params': {'alpha': 1, 'beta': 1, 'gam...</td>\n",
       "      <td>0.333333</td>\n",
       "      <td>0.4</td>\n",
       "      <td>0.366667</td>\n",
       "      <td>0.033333</td>\n",
       "      <td>1</td>\n",
       "    </tr>\n",
       "    <tr>\n",
       "      <th>1</th>\n",
       "      <td>0.001504</td>\n",
       "      <td>0.000496</td>\n",
       "      <td>463.826981</td>\n",
       "      <td>5.088543</td>\n",
       "      <td>{'alpha': 1, 'beta': 1, 'gamma': 2}</td>\n",
       "      <td>1</td>\n",
       "      <td>{'metric_params': {'alpha': 1, 'beta': 1, 'gam...</td>\n",
       "      <td>0.333333</td>\n",
       "      <td>0.4</td>\n",
       "      <td>0.366667</td>\n",
       "      <td>0.033333</td>\n",
       "      <td>1</td>\n",
       "    </tr>\n",
       "  </tbody>\n",
       "</table>\n",
       "</div>"
      ],
      "text/plain": [
       "   mean_fit_time  std_fit_time  mean_score_time  std_score_time  \\\n",
       "0       0.000500      0.000500       459.195146        1.483151   \n",
       "1       0.001504      0.000496       463.826981        5.088543   \n",
       "\n",
       "                   param_metric_params param_n_neighbors  \\\n",
       "0  {'alpha': 1, 'beta': 1, 'gamma': 1}                 1   \n",
       "1  {'alpha': 1, 'beta': 1, 'gamma': 2}                 1   \n",
       "\n",
       "                                              params  split0_test_score  \\\n",
       "0  {'metric_params': {'alpha': 1, 'beta': 1, 'gam...           0.333333   \n",
       "1  {'metric_params': {'alpha': 1, 'beta': 1, 'gam...           0.333333   \n",
       "\n",
       "   split1_test_score  mean_test_score  std_test_score  rank_test_score  \n",
       "0                0.4         0.366667        0.033333                1  \n",
       "1                0.4         0.366667        0.033333                1  "
      ]
     },
     "execution_count": 57,
     "metadata": {},
     "output_type": "execute_result"
    }
   ],
   "source": [
    "grid_search_result = clf.cv_results_\n",
    "pd.DataFrame.from_dict(grid_search_result)"
   ]
  },
  {
   "cell_type": "code",
   "execution_count": 63,
   "metadata": {},
   "outputs": [],
   "source": [
    "model = clf.best_estimator_"
   ]
  },
  {
   "cell_type": "code",
   "execution_count": 67,
   "metadata": {},
   "outputs": [
    {
     "name": "stdout",
     "output_type": "stream",
     "text": [
      "              precision    recall  f1-score   support\n",
      "\n",
      "         1.0       1.00      1.00      1.00         1\n",
      "         3.0       1.00      1.00      1.00         1\n",
      "\n",
      "    accuracy                           1.00         2\n",
      "   macro avg       1.00      1.00      1.00         2\n",
      "weighted avg       1.00      1.00      1.00         2\n",
      "\n"
     ]
    }
   ],
   "source": [
    "y_pred = model.predict(X_test[0:2])\n",
    "print(classification_report(y_test[0:2], y_pred[0:2]))"
   ]
  }
 ],
 "metadata": {
  "kernelspec": {
   "display_name": "base",
   "language": "python",
   "name": "python3"
  },
  "language_info": {
   "codemirror_mode": {
    "name": "ipython",
    "version": 3
   },
   "file_extension": ".py",
   "mimetype": "text/x-python",
   "name": "python",
   "nbconvert_exporter": "python",
   "pygments_lexer": "ipython3",
   "version": "3.10.8"
  },
  "orig_nbformat": 4
 },
 "nbformat": 4,
 "nbformat_minor": 2
}

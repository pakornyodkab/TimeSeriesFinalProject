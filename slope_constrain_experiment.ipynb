{
 "cells": [
  {
   "attachments": {},
   "cell_type": "markdown",
   "metadata": {},
   "source": [
    "# Slope Constriants in Dynamic Time Wrapping (DTW) Algorithm"
   ]
  },
  {
   "attachments": {},
   "cell_type": "markdown",
   "metadata": {},
   "source": [
    "## Load libraries"
   ]
  },
  {
   "cell_type": "code",
   "execution_count": 52,
   "metadata": {},
   "outputs": [],
   "source": [
    "import numpy as np\n",
    "from scipy.spatial import distance\n",
    "from sklearn.model_selection import train_test_split\n",
    "from sklearn.neighbors import KNeighborsClassifier\n",
    "from sklearn.metrics import accuracy_score, classification_report\n",
    "\n",
    "import matplotlib.pyplot as plt"
   ]
  },
  {
   "cell_type": "code",
   "execution_count": 2,
   "metadata": {},
   "outputs": [
    {
     "name": "stdout",
     "output_type": "stream",
     "text": [
      "Importing the dtw module. When using in academic works please cite:\n",
      "  T. Giorgino. Computing and Visualizing Dynamic Time Warping Alignments in R: The dtw Package.\n",
      "  J. Stat. Soft., doi:10.18637/jss.v031.i07.\n",
      "\n"
     ]
    }
   ],
   "source": [
    "import dtw as DTW_module"
   ]
  },
  {
   "attachments": {},
   "cell_type": "markdown",
   "metadata": {},
   "source": [
    "## Setup function"
   ]
  },
  {
   "cell_type": "code",
   "execution_count": 20,
   "metadata": {},
   "outputs": [],
   "source": [
    "seed = 42\n",
    "np.random.seed(seed)"
   ]
  },
  {
   "cell_type": "code",
   "execution_count": 21,
   "metadata": {},
   "outputs": [],
   "source": [
    "def load_dataset(file_path, train=False):\n",
    "    data = np.loadtxt(file_path)\n",
    "    if train:\n",
    "        np.random.shuffle(data)\n",
    "    X = data[:,1:]\n",
    "    y = data[:, 0].astype('int')\n",
    "    return X, y"
   ]
  },
  {
   "cell_type": "code",
   "execution_count": 22,
   "metadata": {},
   "outputs": [],
   "source": [
    "## defining each type of DTW\n",
    "r = 8\n",
    "\n",
    "dtw_rigid = lambda a, b : DTW_module.dtw(a, b, step_pattern=DTW_module.rigid, distance_only=True).normalizedDistance\n",
    "dtw_symmetricP0 = lambda a, b : DTW_module.dtw(a, b, window_type=\"sakoechiba\", distance_only=True, window_args={\"window_size\": r}).normalizedDistance\n",
    "dtw_symmetricP05 = lambda a, b : DTW_module.dtw(a, b, window_type=\"sakoechiba\", step_pattern=DTW_module.symmetricP05, distance_only=True, window_args={\"window_size\": r}).normalizedDistance\n",
    "dtw_symmetricP1 = lambda a, b : DTW_module.dtw(a, b, window_type=\"sakoechiba\", step_pattern=DTW_module.symmetricP1, distance_only=True, window_args={\"window_size\": r}).normalizedDistance\n",
    "dtw_symmetricP2 = lambda a, b : DTW_module.dtw(a, b, window_type=\"sakoechiba\", step_pattern=DTW_module.symmetricP2, distance_only=True, window_args={\"window_size\": r}).normalizedDistance"
   ]
  },
  {
   "attachments": {},
   "cell_type": "markdown",
   "metadata": {},
   "source": [
    "## 50words Dataset"
   ]
  },
  {
   "cell_type": "code",
   "execution_count": 138,
   "metadata": {},
   "outputs": [],
   "source": [
    "X_train, y_train = load_dataset('data/50words_TRAIN', train=True) \n",
    "X_test, y_test = load_dataset('data/50words_TEST')"
   ]
  },
  {
   "cell_type": "code",
   "execution_count": 139,
   "metadata": {},
   "outputs": [
    {
     "name": "stdout",
     "output_type": "stream",
     "text": [
      "(450, 270)\n",
      "(455, 270)\n"
     ]
    }
   ],
   "source": [
    "print(X_train.shape)\n",
    "print(X_test.shape)"
   ]
  },
  {
   "cell_type": "code",
   "execution_count": 140,
   "metadata": {},
   "outputs": [],
   "source": [
    "baseline = KNeighborsClassifier(metric=dtw_rigid, n_neighbors=1, n_jobs=-1) # Pinf\n",
    "clf_p0 = KNeighborsClassifier(metric=dtw_symmetricP0, n_neighbors=1,n_jobs=-1)\n",
    "clf_p05 = KNeighborsClassifier(metric=dtw_symmetricP05, n_neighbors=1,n_jobs=-1)\n",
    "clf_p1 = KNeighborsClassifier(metric=dtw_symmetricP1, n_neighbors=1,n_jobs=-1)\n",
    "clf_p2 = KNeighborsClassifier(metric=dtw_symmetricP2, n_neighbors=1,n_jobs=-1)"
   ]
  },
  {
   "cell_type": "code",
   "execution_count": 141,
   "metadata": {},
   "outputs": [
    {
     "data": {
      "text/html": [
       "<style>#sk-container-id-14 {color: black;background-color: white;}#sk-container-id-14 pre{padding: 0;}#sk-container-id-14 div.sk-toggleable {background-color: white;}#sk-container-id-14 label.sk-toggleable__label {cursor: pointer;display: block;width: 100%;margin-bottom: 0;padding: 0.3em;box-sizing: border-box;text-align: center;}#sk-container-id-14 label.sk-toggleable__label-arrow:before {content: \"▸\";float: left;margin-right: 0.25em;color: #696969;}#sk-container-id-14 label.sk-toggleable__label-arrow:hover:before {color: black;}#sk-container-id-14 div.sk-estimator:hover label.sk-toggleable__label-arrow:before {color: black;}#sk-container-id-14 div.sk-toggleable__content {max-height: 0;max-width: 0;overflow: hidden;text-align: left;background-color: #f0f8ff;}#sk-container-id-14 div.sk-toggleable__content pre {margin: 0.2em;color: black;border-radius: 0.25em;background-color: #f0f8ff;}#sk-container-id-14 input.sk-toggleable__control:checked~div.sk-toggleable__content {max-height: 200px;max-width: 100%;overflow: auto;}#sk-container-id-14 input.sk-toggleable__control:checked~label.sk-toggleable__label-arrow:before {content: \"▾\";}#sk-container-id-14 div.sk-estimator input.sk-toggleable__control:checked~label.sk-toggleable__label {background-color: #d4ebff;}#sk-container-id-14 div.sk-label input.sk-toggleable__control:checked~label.sk-toggleable__label {background-color: #d4ebff;}#sk-container-id-14 input.sk-hidden--visually {border: 0;clip: rect(1px 1px 1px 1px);clip: rect(1px, 1px, 1px, 1px);height: 1px;margin: -1px;overflow: hidden;padding: 0;position: absolute;width: 1px;}#sk-container-id-14 div.sk-estimator {font-family: monospace;background-color: #f0f8ff;border: 1px dotted black;border-radius: 0.25em;box-sizing: border-box;margin-bottom: 0.5em;}#sk-container-id-14 div.sk-estimator:hover {background-color: #d4ebff;}#sk-container-id-14 div.sk-parallel-item::after {content: \"\";width: 100%;border-bottom: 1px solid gray;flex-grow: 1;}#sk-container-id-14 div.sk-label:hover label.sk-toggleable__label {background-color: #d4ebff;}#sk-container-id-14 div.sk-serial::before {content: \"\";position: absolute;border-left: 1px solid gray;box-sizing: border-box;top: 0;bottom: 0;left: 50%;z-index: 0;}#sk-container-id-14 div.sk-serial {display: flex;flex-direction: column;align-items: center;background-color: white;padding-right: 0.2em;padding-left: 0.2em;position: relative;}#sk-container-id-14 div.sk-item {position: relative;z-index: 1;}#sk-container-id-14 div.sk-parallel {display: flex;align-items: stretch;justify-content: center;background-color: white;position: relative;}#sk-container-id-14 div.sk-item::before, #sk-container-id-14 div.sk-parallel-item::before {content: \"\";position: absolute;border-left: 1px solid gray;box-sizing: border-box;top: 0;bottom: 0;left: 50%;z-index: -1;}#sk-container-id-14 div.sk-parallel-item {display: flex;flex-direction: column;z-index: 1;position: relative;background-color: white;}#sk-container-id-14 div.sk-parallel-item:first-child::after {align-self: flex-end;width: 50%;}#sk-container-id-14 div.sk-parallel-item:last-child::after {align-self: flex-start;width: 50%;}#sk-container-id-14 div.sk-parallel-item:only-child::after {width: 0;}#sk-container-id-14 div.sk-dashed-wrapped {border: 1px dashed gray;margin: 0 0.4em 0.5em 0.4em;box-sizing: border-box;padding-bottom: 0.4em;background-color: white;}#sk-container-id-14 div.sk-label label {font-family: monospace;font-weight: bold;display: inline-block;line-height: 1.2em;}#sk-container-id-14 div.sk-label-container {text-align: center;}#sk-container-id-14 div.sk-container {/* jupyter's `normalize.less` sets `[hidden] { display: none; }` but bootstrap.min.css set `[hidden] { display: none !important; }` so we also need the `!important` here to be able to override the default hidden behavior on the sphinx rendered scikit-learn.org. See: https://github.com/scikit-learn/scikit-learn/issues/21755 */display: inline-block !important;position: relative;}#sk-container-id-14 div.sk-text-repr-fallback {display: none;}</style><div id=\"sk-container-id-14\" class=\"sk-top-container\"><div class=\"sk-text-repr-fallback\"><pre>KNeighborsClassifier(metric=&lt;function &lt;lambda&gt; at 0x00000296F50F15A0&gt;,\n",
       "                     n_jobs=-1, n_neighbors=1)</pre><b>In a Jupyter environment, please rerun this cell to show the HTML representation or trust the notebook. <br />On GitHub, the HTML representation is unable to render, please try loading this page with nbviewer.org.</b></div><div class=\"sk-container\" hidden><div class=\"sk-item\"><div class=\"sk-estimator sk-toggleable\"><input class=\"sk-toggleable__control sk-hidden--visually\" id=\"sk-estimator-id-14\" type=\"checkbox\" checked><label for=\"sk-estimator-id-14\" class=\"sk-toggleable__label sk-toggleable__label-arrow\">KNeighborsClassifier</label><div class=\"sk-toggleable__content\"><pre>KNeighborsClassifier(metric=&lt;function &lt;lambda&gt; at 0x00000296F50F15A0&gt;,\n",
       "                     n_jobs=-1, n_neighbors=1)</pre></div></div></div></div></div>"
      ],
      "text/plain": [
       "KNeighborsClassifier(metric=<function <lambda> at 0x00000296F50F15A0>,\n",
       "                     n_jobs=-1, n_neighbors=1)"
      ]
     },
     "execution_count": 141,
     "metadata": {},
     "output_type": "execute_result"
    }
   ],
   "source": [
    "baseline.fit(X_train, y_train)\n",
    "clf_p0.fit(X_train, y_train)\n",
    "clf_p05.fit(X_train, y_train)\n",
    "clf_p1.fit(X_train, y_train)\n",
    "clf_p2.fit(X_train, y_train)"
   ]
  },
  {
   "cell_type": "code",
   "execution_count": 142,
   "metadata": {},
   "outputs": [],
   "source": [
    "y_pred_baseline = baseline.predict(X_test)"
   ]
  },
  {
   "cell_type": "code",
   "execution_count": 143,
   "metadata": {},
   "outputs": [],
   "source": [
    "y_pred_p0 = clf_p0.predict(X_test)\n",
    "y_pred_p05 = clf_p05.predict(X_test)\n",
    "y_pred_p1 = clf_p1.predict(X_test)\n",
    "y_pred_p2 = clf_p2.predict(X_test)"
   ]
  },
  {
   "cell_type": "code",
   "execution_count": 144,
   "metadata": {},
   "outputs": [],
   "source": [
    "baseline_score = accuracy_score(y_test, y_pred_baseline)\n",
    "p0_score = accuracy_score(y_test, y_pred_p0)\n",
    "p05_score = accuracy_score(y_test, y_pred_p05)\n",
    "p1_score = accuracy_score(y_test, y_pred_p1)\n",
    "p2_score = accuracy_score(y_test, y_pred_p2)"
   ]
  },
  {
   "cell_type": "markdown",
   "metadata": {},
   "source": [
    "### classification report"
   ]
  },
  {
   "cell_type": "code",
   "execution_count": 145,
   "metadata": {},
   "outputs": [
    {
     "name": "stdout",
     "output_type": "stream",
     "text": [
      "\tbaseline (P infinity) report\n",
      "              precision    recall  f1-score   support\n",
      "\n",
      "           1       0.83      0.86      0.84        57\n",
      "           2       0.73      0.95      0.82        42\n",
      "           3       0.83      0.86      0.84        28\n",
      "           4       0.58      0.65      0.61        34\n",
      "           5       0.88      0.84      0.86        25\n",
      "           6       0.68      0.68      0.68        19\n",
      "           7       0.94      0.94      0.94        16\n",
      "           8       0.75      0.92      0.83        13\n",
      "           9       0.64      0.69      0.67        13\n",
      "          10       0.75      0.75      0.75        12\n",
      "          11       0.56      0.42      0.48        12\n",
      "          12       0.50      0.44      0.47         9\n",
      "          13       0.14      0.14      0.14         7\n",
      "          14       0.56      0.50      0.53        10\n",
      "          15       1.00      0.89      0.94         9\n",
      "          16       0.60      0.75      0.67         8\n",
      "          17       0.40      0.57      0.47         7\n",
      "          18       0.43      0.60      0.50         5\n",
      "          19       0.80      1.00      0.89         4\n",
      "          20       0.83      0.83      0.83         6\n",
      "          21       0.25      0.40      0.31         5\n",
      "          22       0.25      0.17      0.20         6\n",
      "          23       1.00      0.75      0.86         4\n",
      "          24       0.57      0.67      0.62         6\n",
      "          25       0.00      0.00      0.00         8\n",
      "          26       1.00      0.50      0.67         4\n",
      "          27       1.00      0.50      0.67         6\n",
      "          28       1.00      0.33      0.50         3\n",
      "          29       0.50      0.20      0.29         5\n",
      "          30       0.08      0.33      0.13         3\n",
      "          31       0.80      0.67      0.73         6\n",
      "          32       1.00      1.00      1.00         2\n",
      "          33       0.25      0.33      0.29         3\n",
      "          34       0.33      0.20      0.25         5\n",
      "          35       0.00      0.00      0.00         2\n",
      "          36       0.50      0.50      0.50         2\n",
      "          37       1.00      1.00      1.00         3\n",
      "          38       0.75      0.75      0.75         4\n",
      "          39       1.00      0.75      0.86         4\n",
      "          40       0.00      0.00      0.00         4\n",
      "          41       0.00      0.00      0.00         6\n",
      "          42       0.00      0.00      0.00         5\n",
      "          43       0.50      0.33      0.40         3\n",
      "          44       0.00      0.00      0.00         1\n",
      "          45       0.67      0.67      0.67         3\n",
      "          46       0.20      0.33      0.25         3\n",
      "          47       1.00      0.67      0.80         3\n",
      "          48       0.00      0.00      0.00         2\n",
      "          49       1.00      0.50      0.67         4\n",
      "          50       0.50      0.25      0.33         4\n",
      "\n",
      "    accuracy                           0.67       455\n",
      "   macro avg       0.57      0.52      0.53       455\n",
      "weighted avg       0.66      0.67      0.66       455\n",
      "\n"
     ]
    },
    {
     "name": "stderr",
     "output_type": "stream",
     "text": [
      "e:\\Programs\\miniconda3\\lib\\site-packages\\sklearn\\metrics\\_classification.py:1344: UndefinedMetricWarning: Precision and F-score are ill-defined and being set to 0.0 in labels with no predicted samples. Use `zero_division` parameter to control this behavior.\n",
      "  _warn_prf(average, modifier, msg_start, len(result))\n",
      "e:\\Programs\\miniconda3\\lib\\site-packages\\sklearn\\metrics\\_classification.py:1344: UndefinedMetricWarning: Precision and F-score are ill-defined and being set to 0.0 in labels with no predicted samples. Use `zero_division` parameter to control this behavior.\n",
      "  _warn_prf(average, modifier, msg_start, len(result))\n",
      "e:\\Programs\\miniconda3\\lib\\site-packages\\sklearn\\metrics\\_classification.py:1344: UndefinedMetricWarning: Precision and F-score are ill-defined and being set to 0.0 in labels with no predicted samples. Use `zero_division` parameter to control this behavior.\n",
      "  _warn_prf(average, modifier, msg_start, len(result))\n"
     ]
    }
   ],
   "source": [
    "print(\"\\tbaseline (P infinity) report\")\n",
    "print(classification_report(y_test, y_pred_baseline))"
   ]
  },
  {
   "cell_type": "code",
   "execution_count": 146,
   "metadata": {},
   "outputs": [
    {
     "name": "stdout",
     "output_type": "stream",
     "text": [
      "\tsymmetric P0 report\n",
      "              precision    recall  f1-score   support\n",
      "\n",
      "           1       0.91      0.93      0.92        57\n",
      "           2       0.86      1.00      0.92        42\n",
      "           3       0.89      0.89      0.89        28\n",
      "           4       0.74      0.68      0.71        34\n",
      "           5       0.88      0.88      0.88        25\n",
      "           6       0.71      0.79      0.75        19\n",
      "           7       0.93      0.88      0.90        16\n",
      "           8       0.92      0.92      0.92        13\n",
      "           9       0.85      0.85      0.85        13\n",
      "          10       0.67      0.83      0.74        12\n",
      "          11       0.57      0.67      0.62        12\n",
      "          12       0.71      0.56      0.63         9\n",
      "          13       0.57      0.57      0.57         7\n",
      "          14       0.75      0.60      0.67        10\n",
      "          15       0.90      1.00      0.95         9\n",
      "          16       0.70      0.88      0.78         8\n",
      "          17       0.38      0.43      0.40         7\n",
      "          18       0.33      0.60      0.43         5\n",
      "          19       0.67      1.00      0.80         4\n",
      "          20       0.83      0.83      0.83         6\n",
      "          21       0.60      0.60      0.60         5\n",
      "          22       0.33      0.17      0.22         6\n",
      "          23       0.80      1.00      0.89         4\n",
      "          24       0.50      0.67      0.57         6\n",
      "          25       0.50      0.12      0.20         8\n",
      "          26       1.00      1.00      1.00         4\n",
      "          27       0.67      0.67      0.67         6\n",
      "          28       1.00      0.33      0.50         3\n",
      "          29       0.50      0.40      0.44         5\n",
      "          30       0.17      0.67      0.27         3\n",
      "          31       1.00      1.00      1.00         6\n",
      "          32       1.00      1.00      1.00         2\n",
      "          33       0.20      0.33      0.25         3\n",
      "          34       0.60      0.60      0.60         5\n",
      "          35       0.00      0.00      0.00         2\n",
      "          36       0.67      1.00      0.80         2\n",
      "          37       0.75      1.00      0.86         3\n",
      "          38       1.00      1.00      1.00         4\n",
      "          39       1.00      0.75      0.86         4\n",
      "          40       0.00      0.00      0.00         4\n",
      "          41       0.00      0.00      0.00         6\n",
      "          42       0.00      0.00      0.00         5\n",
      "          43       1.00      0.33      0.50         3\n",
      "          44       0.00      0.00      0.00         1\n",
      "          45       0.67      0.67      0.67         3\n",
      "          46       0.40      0.67      0.50         3\n",
      "          47       1.00      1.00      1.00         3\n",
      "          48       0.00      0.00      0.00         2\n",
      "          49       1.00      0.50      0.67         4\n",
      "          50       1.00      0.25      0.40         4\n",
      "\n",
      "    accuracy                           0.75       455\n",
      "   macro avg       0.64      0.63      0.61       455\n",
      "weighted avg       0.75      0.75      0.74       455\n",
      "\n"
     ]
    },
    {
     "name": "stderr",
     "output_type": "stream",
     "text": [
      "e:\\Programs\\miniconda3\\lib\\site-packages\\sklearn\\metrics\\_classification.py:1344: UndefinedMetricWarning: Precision and F-score are ill-defined and being set to 0.0 in labels with no predicted samples. Use `zero_division` parameter to control this behavior.\n",
      "  _warn_prf(average, modifier, msg_start, len(result))\n",
      "e:\\Programs\\miniconda3\\lib\\site-packages\\sklearn\\metrics\\_classification.py:1344: UndefinedMetricWarning: Precision and F-score are ill-defined and being set to 0.0 in labels with no predicted samples. Use `zero_division` parameter to control this behavior.\n",
      "  _warn_prf(average, modifier, msg_start, len(result))\n",
      "e:\\Programs\\miniconda3\\lib\\site-packages\\sklearn\\metrics\\_classification.py:1344: UndefinedMetricWarning: Precision and F-score are ill-defined and being set to 0.0 in labels with no predicted samples. Use `zero_division` parameter to control this behavior.\n",
      "  _warn_prf(average, modifier, msg_start, len(result))\n"
     ]
    }
   ],
   "source": [
    "print(\"\\tsymmetric P0 report\")\n",
    "print(classification_report(y_test, y_pred_p0))"
   ]
  },
  {
   "cell_type": "code",
   "execution_count": 147,
   "metadata": {},
   "outputs": [
    {
     "name": "stdout",
     "output_type": "stream",
     "text": [
      "\tsymmetric P0.5 report\n",
      "              precision    recall  f1-score   support\n",
      "\n",
      "           1       0.93      0.95      0.94        57\n",
      "           2       0.86      1.00      0.92        42\n",
      "           3       0.92      0.86      0.89        28\n",
      "           4       0.74      0.68      0.71        34\n",
      "           5       0.88      0.88      0.88        25\n",
      "           6       0.68      0.79      0.73        19\n",
      "           7       0.93      0.88      0.90        16\n",
      "           8       0.86      0.92      0.89        13\n",
      "           9       0.86      0.92      0.89        13\n",
      "          10       0.71      0.83      0.77        12\n",
      "          11       0.57      0.67      0.62        12\n",
      "          12       0.62      0.56      0.59         9\n",
      "          13       0.44      0.57      0.50         7\n",
      "          14       0.75      0.60      0.67        10\n",
      "          15       0.82      1.00      0.90         9\n",
      "          16       0.73      1.00      0.84         8\n",
      "          17       0.40      0.57      0.47         7\n",
      "          18       0.60      0.60      0.60         5\n",
      "          19       0.67      1.00      0.80         4\n",
      "          20       0.83      0.83      0.83         6\n",
      "          21       0.60      0.60      0.60         5\n",
      "          22       0.50      0.17      0.25         6\n",
      "          23       0.80      1.00      0.89         4\n",
      "          24       0.50      0.67      0.57         6\n",
      "          25       1.00      0.12      0.22         8\n",
      "          26       1.00      1.00      1.00         4\n",
      "          27       0.83      0.83      0.83         6\n",
      "          28       1.00      0.33      0.50         3\n",
      "          29       0.50      0.40      0.44         5\n",
      "          30       0.18      0.67      0.29         3\n",
      "          31       1.00      1.00      1.00         6\n",
      "          32       1.00      1.00      1.00         2\n",
      "          33       0.25      0.33      0.29         3\n",
      "          34       0.75      0.60      0.67         5\n",
      "          35       0.00      0.00      0.00         2\n",
      "          36       0.33      0.50      0.40         2\n",
      "          37       1.00      1.00      1.00         3\n",
      "          38       0.80      1.00      0.89         4\n",
      "          39       1.00      0.75      0.86         4\n",
      "          40       0.00      0.00      0.00         4\n",
      "          41       0.00      0.00      0.00         6\n",
      "          42       0.00      0.00      0.00         5\n",
      "          43       0.50      0.33      0.40         3\n",
      "          44       0.00      0.00      0.00         1\n",
      "          45       0.50      0.67      0.57         3\n",
      "          46       0.40      0.67      0.50         3\n",
      "          47       1.00      1.00      1.00         3\n",
      "          48       0.00      0.00      0.00         2\n",
      "          49       1.00      0.50      0.67         4\n",
      "          50       1.00      0.25      0.40         4\n",
      "\n",
      "    accuracy                           0.76       455\n",
      "   macro avg       0.65      0.63      0.61       455\n",
      "weighted avg       0.76      0.76      0.74       455\n",
      "\n"
     ]
    },
    {
     "name": "stderr",
     "output_type": "stream",
     "text": [
      "e:\\Programs\\miniconda3\\lib\\site-packages\\sklearn\\metrics\\_classification.py:1344: UndefinedMetricWarning: Precision and F-score are ill-defined and being set to 0.0 in labels with no predicted samples. Use `zero_division` parameter to control this behavior.\n",
      "  _warn_prf(average, modifier, msg_start, len(result))\n",
      "e:\\Programs\\miniconda3\\lib\\site-packages\\sklearn\\metrics\\_classification.py:1344: UndefinedMetricWarning: Precision and F-score are ill-defined and being set to 0.0 in labels with no predicted samples. Use `zero_division` parameter to control this behavior.\n",
      "  _warn_prf(average, modifier, msg_start, len(result))\n",
      "e:\\Programs\\miniconda3\\lib\\site-packages\\sklearn\\metrics\\_classification.py:1344: UndefinedMetricWarning: Precision and F-score are ill-defined and being set to 0.0 in labels with no predicted samples. Use `zero_division` parameter to control this behavior.\n",
      "  _warn_prf(average, modifier, msg_start, len(result))\n"
     ]
    }
   ],
   "source": [
    "print(\"\\tsymmetric P0.5 report\")\n",
    "print(classification_report(y_test, y_pred_p05))"
   ]
  },
  {
   "cell_type": "code",
   "execution_count": 148,
   "metadata": {},
   "outputs": [
    {
     "name": "stdout",
     "output_type": "stream",
     "text": [
      "\tsymmetric P1 report\n",
      "              precision    recall  f1-score   support\n",
      "\n",
      "           1       0.90      0.95      0.92        57\n",
      "           2       0.88      1.00      0.93        42\n",
      "           3       0.92      0.86      0.89        28\n",
      "           4       0.73      0.65      0.69        34\n",
      "           5       0.88      0.88      0.88        25\n",
      "           6       0.71      0.79      0.75        19\n",
      "           7       0.93      0.88      0.90        16\n",
      "           8       0.86      0.92      0.89        13\n",
      "           9       0.85      0.85      0.85        13\n",
      "          10       0.71      0.83      0.77        12\n",
      "          11       0.57      0.67      0.62        12\n",
      "          12       0.57      0.44      0.50         9\n",
      "          13       0.44      0.57      0.50         7\n",
      "          14       0.78      0.70      0.74        10\n",
      "          15       0.82      1.00      0.90         9\n",
      "          16       0.73      1.00      0.84         8\n",
      "          17       0.36      0.57      0.44         7\n",
      "          18       0.75      0.60      0.67         5\n",
      "          19       0.67      1.00      0.80         4\n",
      "          20       0.83      0.83      0.83         6\n",
      "          21       0.50      0.60      0.55         5\n",
      "          22       0.50      0.17      0.25         6\n",
      "          23       0.80      1.00      0.89         4\n",
      "          24       0.56      0.83      0.67         6\n",
      "          25       1.00      0.25      0.40         8\n",
      "          26       1.00      1.00      1.00         4\n",
      "          27       0.83      0.83      0.83         6\n",
      "          28       1.00      0.33      0.50         3\n",
      "          29       0.50      0.40      0.44         5\n",
      "          30       0.20      0.67      0.31         3\n",
      "          31       1.00      1.00      1.00         6\n",
      "          32       1.00      1.00      1.00         2\n",
      "          33       0.33      0.33      0.33         3\n",
      "          34       0.75      0.60      0.67         5\n",
      "          35       0.00      0.00      0.00         2\n",
      "          36       0.33      0.50      0.40         2\n",
      "          37       1.00      0.67      0.80         3\n",
      "          38       0.80      1.00      0.89         4\n",
      "          39       1.00      0.75      0.86         4\n",
      "          40       0.00      0.00      0.00         4\n",
      "          41       0.00      0.00      0.00         6\n",
      "          42       0.00      0.00      0.00         5\n",
      "          43       0.50      0.33      0.40         3\n",
      "          44       0.00      0.00      0.00         1\n",
      "          45       0.50      0.67      0.57         3\n",
      "          46       0.40      0.67      0.50         3\n",
      "          47       1.00      1.00      1.00         3\n",
      "          48       0.00      0.00      0.00         2\n",
      "          49       1.00      0.50      0.67         4\n",
      "          50       1.00      0.25      0.40         4\n",
      "\n",
      "    accuracy                           0.76       455\n",
      "   macro avg       0.65      0.63      0.61       455\n",
      "weighted avg       0.76      0.76      0.74       455\n",
      "\n"
     ]
    },
    {
     "name": "stderr",
     "output_type": "stream",
     "text": [
      "e:\\Programs\\miniconda3\\lib\\site-packages\\sklearn\\metrics\\_classification.py:1344: UndefinedMetricWarning: Precision and F-score are ill-defined and being set to 0.0 in labels with no predicted samples. Use `zero_division` parameter to control this behavior.\n",
      "  _warn_prf(average, modifier, msg_start, len(result))\n",
      "e:\\Programs\\miniconda3\\lib\\site-packages\\sklearn\\metrics\\_classification.py:1344: UndefinedMetricWarning: Precision and F-score are ill-defined and being set to 0.0 in labels with no predicted samples. Use `zero_division` parameter to control this behavior.\n",
      "  _warn_prf(average, modifier, msg_start, len(result))\n",
      "e:\\Programs\\miniconda3\\lib\\site-packages\\sklearn\\metrics\\_classification.py:1344: UndefinedMetricWarning: Precision and F-score are ill-defined and being set to 0.0 in labels with no predicted samples. Use `zero_division` parameter to control this behavior.\n",
      "  _warn_prf(average, modifier, msg_start, len(result))\n"
     ]
    }
   ],
   "source": [
    "print(\"\\tsymmetric P1 report\")\n",
    "print(classification_report(y_test, y_pred_p1))"
   ]
  },
  {
   "cell_type": "code",
   "execution_count": 149,
   "metadata": {},
   "outputs": [
    {
     "name": "stdout",
     "output_type": "stream",
     "text": [
      "\tsymmetric P2 report\n",
      "              precision    recall  f1-score   support\n",
      "\n",
      "           1       0.89      0.96      0.92        57\n",
      "           2       0.89      1.00      0.94        42\n",
      "           3       1.00      0.86      0.92        28\n",
      "           4       0.71      0.65      0.68        34\n",
      "           5       0.86      0.96      0.91        25\n",
      "           6       0.71      0.79      0.75        19\n",
      "           7       0.94      0.94      0.94        16\n",
      "           8       0.86      0.92      0.89        13\n",
      "           9       0.85      0.85      0.85        13\n",
      "          10       0.71      0.83      0.77        12\n",
      "          11       0.60      0.75      0.67        12\n",
      "          12       0.57      0.44      0.50         9\n",
      "          13       0.50      0.57      0.53         7\n",
      "          14       0.78      0.70      0.74        10\n",
      "          15       0.82      1.00      0.90         9\n",
      "          16       0.78      0.88      0.82         8\n",
      "          17       0.30      0.43      0.35         7\n",
      "          18       0.71      1.00      0.83         5\n",
      "          19       0.67      1.00      0.80         4\n",
      "          20       0.83      0.83      0.83         6\n",
      "          21       0.50      0.60      0.55         5\n",
      "          22       0.50      0.17      0.25         6\n",
      "          23       1.00      1.00      1.00         4\n",
      "          24       0.56      0.83      0.67         6\n",
      "          25       1.00      0.25      0.40         8\n",
      "          26       1.00      1.00      1.00         4\n",
      "          27       0.83      0.83      0.83         6\n",
      "          28       1.00      0.33      0.50         3\n",
      "          29       0.67      0.40      0.50         5\n",
      "          30       0.20      0.67      0.31         3\n",
      "          31       1.00      0.83      0.91         6\n",
      "          32       1.00      1.00      1.00         2\n",
      "          33       0.33      0.33      0.33         3\n",
      "          34       1.00      0.60      0.75         5\n",
      "          35       0.00      0.00      0.00         2\n",
      "          36       0.50      0.50      0.50         2\n",
      "          37       0.67      0.67      0.67         3\n",
      "          38       0.80      1.00      0.89         4\n",
      "          39       1.00      0.75      0.86         4\n",
      "          40       0.00      0.00      0.00         4\n",
      "          41       0.00      0.00      0.00         6\n",
      "          42       0.00      0.00      0.00         5\n",
      "          43       0.50      0.33      0.40         3\n",
      "          44       0.00      0.00      0.00         1\n",
      "          45       0.50      0.67      0.57         3\n",
      "          46       0.40      0.67      0.50         3\n",
      "          47       1.00      1.00      1.00         3\n",
      "          48       0.00      0.00      0.00         2\n",
      "          49       1.00      0.50      0.67         4\n",
      "          50       1.00      0.25      0.40         4\n",
      "\n",
      "    accuracy                           0.76       455\n",
      "   macro avg       0.66      0.63      0.62       455\n",
      "weighted avg       0.76      0.76      0.75       455\n",
      "\n"
     ]
    },
    {
     "name": "stderr",
     "output_type": "stream",
     "text": [
      "e:\\Programs\\miniconda3\\lib\\site-packages\\sklearn\\metrics\\_classification.py:1344: UndefinedMetricWarning: Precision and F-score are ill-defined and being set to 0.0 in labels with no predicted samples. Use `zero_division` parameter to control this behavior.\n",
      "  _warn_prf(average, modifier, msg_start, len(result))\n",
      "e:\\Programs\\miniconda3\\lib\\site-packages\\sklearn\\metrics\\_classification.py:1344: UndefinedMetricWarning: Precision and F-score are ill-defined and being set to 0.0 in labels with no predicted samples. Use `zero_division` parameter to control this behavior.\n",
      "  _warn_prf(average, modifier, msg_start, len(result))\n",
      "e:\\Programs\\miniconda3\\lib\\site-packages\\sklearn\\metrics\\_classification.py:1344: UndefinedMetricWarning: Precision and F-score are ill-defined and being set to 0.0 in labels with no predicted samples. Use `zero_division` parameter to control this behavior.\n",
      "  _warn_prf(average, modifier, msg_start, len(result))\n"
     ]
    }
   ],
   "source": [
    "print(\"\\tsymmetric P2 report\")\n",
    "print(classification_report(y_test, y_pred_p2))"
   ]
  },
  {
   "cell_type": "markdown",
   "metadata": {},
   "source": [
    "### accuracy comparision"
   ]
  },
  {
   "cell_type": "code",
   "execution_count": 150,
   "metadata": {},
   "outputs": [
    {
     "data": {
      "image/png": "[encoded data removed]",
      "text/plain": [
       "<Figure size 640x480 with 1 Axes>"
      ]
     },
     "metadata": {},
     "output_type": "display_data"
    }
   ],
   "source": [
    "# plot the accuracy score for each p\n",
    "x = [0, 0.5, 1, 2]\n",
    "y = [p0_score, p05_score, p1_score, p2_score]\n",
    "\n",
    "fig, ax = plt.subplots()\n",
    "\n",
    "ax.set_xlim([0, 4])\n",
    "ax.plot(x, y, 'o-r')\n",
    "ax.axhline(y=baseline_score, xmin=0.0, xmax=1.0, color='g')\n",
    "\n",
    "plt.show()"
   ]
  },
  {
   "attachments": {},
   "cell_type": "markdown",
   "metadata": {},
   "source": [
    "## Beef Dataset"
   ]
  },
  {
   "cell_type": "code",
   "execution_count": 113,
   "metadata": {},
   "outputs": [],
   "source": [
    "X_train, y_train = load_dataset('data/Beef_TRAIN', train=True) \n",
    "X_test, y_test = load_dataset('data/Beef_TEST')"
   ]
  },
  {
   "cell_type": "code",
   "execution_count": 114,
   "metadata": {},
   "outputs": [
    {
     "name": "stdout",
     "output_type": "stream",
     "text": [
      "(30, 470)\n",
      "(30, 470)\n"
     ]
    }
   ],
   "source": [
    "print(X_train.shape)\n",
    "print(X_test.shape)"
   ]
  },
  {
   "cell_type": "code",
   "execution_count": 115,
   "metadata": {},
   "outputs": [],
   "source": [
    "baseline = KNeighborsClassifier(metric=dtw_rigid, n_neighbors=1, n_jobs=-1) # Pinf\n",
    "clf_p0 = KNeighborsClassifier(metric=dtw_symmetricP0, n_neighbors=1,n_jobs=-1)\n",
    "clf_p05 = KNeighborsClassifier(metric=dtw_symmetricP05, n_neighbors=1,n_jobs=-1)\n",
    "clf_p1 = KNeighborsClassifier(metric=dtw_symmetricP1, n_neighbors=1,n_jobs=-1)\n",
    "clf_p2 = KNeighborsClassifier(metric=dtw_symmetricP2, n_neighbors=1,n_jobs=-1)"
   ]
  },
  {
   "cell_type": "code",
   "execution_count": 116,
   "metadata": {},
   "outputs": [
    {
     "data": {
      "text/html": [
       "<style>#sk-container-id-12 {color: black;background-color: white;}#sk-container-id-12 pre{padding: 0;}#sk-container-id-12 div.sk-toggleable {background-color: white;}#sk-container-id-12 label.sk-toggleable__label {cursor: pointer;display: block;width: 100%;margin-bottom: 0;padding: 0.3em;box-sizing: border-box;text-align: center;}#sk-container-id-12 label.sk-toggleable__label-arrow:before {content: \"▸\";float: left;margin-right: 0.25em;color: #696969;}#sk-container-id-12 label.sk-toggleable__label-arrow:hover:before {color: black;}#sk-container-id-12 div.sk-estimator:hover label.sk-toggleable__label-arrow:before {color: black;}#sk-container-id-12 div.sk-toggleable__content {max-height: 0;max-width: 0;overflow: hidden;text-align: left;background-color: #f0f8ff;}#sk-container-id-12 div.sk-toggleable__content pre {margin: 0.2em;color: black;border-radius: 0.25em;background-color: #f0f8ff;}#sk-container-id-12 input.sk-toggleable__control:checked~div.sk-toggleable__content {max-height: 200px;max-width: 100%;overflow: auto;}#sk-container-id-12 input.sk-toggleable__control:checked~label.sk-toggleable__label-arrow:before {content: \"▾\";}#sk-container-id-12 div.sk-estimator input.sk-toggleable__control:checked~label.sk-toggleable__label {background-color: #d4ebff;}#sk-container-id-12 div.sk-label input.sk-toggleable__control:checked~label.sk-toggleable__label {background-color: #d4ebff;}#sk-container-id-12 input.sk-hidden--visually {border: 0;clip: rect(1px 1px 1px 1px);clip: rect(1px, 1px, 1px, 1px);height: 1px;margin: -1px;overflow: hidden;padding: 0;position: absolute;width: 1px;}#sk-container-id-12 div.sk-estimator {font-family: monospace;background-color: #f0f8ff;border: 1px dotted black;border-radius: 0.25em;box-sizing: border-box;margin-bottom: 0.5em;}#sk-container-id-12 div.sk-estimator:hover {background-color: #d4ebff;}#sk-container-id-12 div.sk-parallel-item::after {content: \"\";width: 100%;border-bottom: 1px solid gray;flex-grow: 1;}#sk-container-id-12 div.sk-label:hover label.sk-toggleable__label {background-color: #d4ebff;}#sk-container-id-12 div.sk-serial::before {content: \"\";position: absolute;border-left: 1px solid gray;box-sizing: border-box;top: 0;bottom: 0;left: 50%;z-index: 0;}#sk-container-id-12 div.sk-serial {display: flex;flex-direction: column;align-items: center;background-color: white;padding-right: 0.2em;padding-left: 0.2em;position: relative;}#sk-container-id-12 div.sk-item {position: relative;z-index: 1;}#sk-container-id-12 div.sk-parallel {display: flex;align-items: stretch;justify-content: center;background-color: white;position: relative;}#sk-container-id-12 div.sk-item::before, #sk-container-id-12 div.sk-parallel-item::before {content: \"\";position: absolute;border-left: 1px solid gray;box-sizing: border-box;top: 0;bottom: 0;left: 50%;z-index: -1;}#sk-container-id-12 div.sk-parallel-item {display: flex;flex-direction: column;z-index: 1;position: relative;background-color: white;}#sk-container-id-12 div.sk-parallel-item:first-child::after {align-self: flex-end;width: 50%;}#sk-container-id-12 div.sk-parallel-item:last-child::after {align-self: flex-start;width: 50%;}#sk-container-id-12 div.sk-parallel-item:only-child::after {width: 0;}#sk-container-id-12 div.sk-dashed-wrapped {border: 1px dashed gray;margin: 0 0.4em 0.5em 0.4em;box-sizing: border-box;padding-bottom: 0.4em;background-color: white;}#sk-container-id-12 div.sk-label label {font-family: monospace;font-weight: bold;display: inline-block;line-height: 1.2em;}#sk-container-id-12 div.sk-label-container {text-align: center;}#sk-container-id-12 div.sk-container {/* jupyter's `normalize.less` sets `[hidden] { display: none; }` but bootstrap.min.css set `[hidden] { display: none !important; }` so we also need the `!important` here to be able to override the default hidden behavior on the sphinx rendered scikit-learn.org. See: https://github.com/scikit-learn/scikit-learn/issues/21755 */display: inline-block !important;position: relative;}#sk-container-id-12 div.sk-text-repr-fallback {display: none;}</style><div id=\"sk-container-id-12\" class=\"sk-top-container\"><div class=\"sk-text-repr-fallback\"><pre>KNeighborsClassifier(metric=&lt;function &lt;lambda&gt; at 0x00000296F50F15A0&gt;,\n",
       "                     n_jobs=-1, n_neighbors=1)</pre><b>In a Jupyter environment, please rerun this cell to show the HTML representation or trust the notebook. <br />On GitHub, the HTML representation is unable to render, please try loading this page with nbviewer.org.</b></div><div class=\"sk-container\" hidden><div class=\"sk-item\"><div class=\"sk-estimator sk-toggleable\"><input class=\"sk-toggleable__control sk-hidden--visually\" id=\"sk-estimator-id-12\" type=\"checkbox\" checked><label for=\"sk-estimator-id-12\" class=\"sk-toggleable__label sk-toggleable__label-arrow\">KNeighborsClassifier</label><div class=\"sk-toggleable__content\"><pre>KNeighborsClassifier(metric=&lt;function &lt;lambda&gt; at 0x00000296F50F15A0&gt;,\n",
       "                     n_jobs=-1, n_neighbors=1)</pre></div></div></div></div></div>"
      ],
      "text/plain": [
       "KNeighborsClassifier(metric=<function <lambda> at 0x00000296F50F15A0>,\n",
       "                     n_jobs=-1, n_neighbors=1)"
      ]
     },
     "execution_count": 116,
     "metadata": {},
     "output_type": "execute_result"
    }
   ],
   "source": [
    "baseline.fit(X_train, y_train)\n",
    "clf_p0.fit(X_train, y_train)\n",
    "clf_p05.fit(X_train, y_train)\n",
    "clf_p1.fit(X_train, y_train)\n",
    "clf_p2.fit(X_train, y_train)"
   ]
  },
  {
   "cell_type": "code",
   "execution_count": 117,
   "metadata": {},
   "outputs": [],
   "source": [
    "y_pred_baseline = baseline.predict(X_test)"
   ]
  },
  {
   "cell_type": "code",
   "execution_count": 118,
   "metadata": {},
   "outputs": [],
   "source": [
    "y_pred_p0 = clf_p0.predict(X_test)\n",
    "y_pred_p05 = clf_p05.predict(X_test)\n",
    "y_pred_p1 = clf_p1.predict(X_test)\n",
    "y_pred_p2 = clf_p2.predict(X_test)"
   ]
  },
  {
   "cell_type": "code",
   "execution_count": 119,
   "metadata": {},
   "outputs": [],
   "source": [
    "baseline_score = accuracy_score(y_test, y_pred_baseline)\n",
    "p0_score = accuracy_score(y_test, y_pred_p0)\n",
    "p05_score = accuracy_score(y_test, y_pred_p05)\n",
    "p1_score = accuracy_score(y_test, y_pred_p1)\n",
    "p2_score = accuracy_score(y_test, y_pred_p2)"
   ]
  },
  {
   "attachments": {},
   "cell_type": "markdown",
   "metadata": {},
   "source": [
    "### classification report"
   ]
  },
  {
   "cell_type": "code",
   "execution_count": 120,
   "metadata": {},
   "outputs": [
    {
     "name": "stdout",
     "output_type": "stream",
     "text": [
      "\tbaseline (P infinity) report\n",
      "              precision    recall  f1-score   support\n",
      "\n",
      "           1       0.75      1.00      0.86         6\n",
      "           2       0.33      0.17      0.22         6\n",
      "           3       0.50      0.67      0.57         6\n",
      "           4       0.40      0.33      0.36         6\n",
      "           5       0.33      0.33      0.33         6\n",
      "\n",
      "    accuracy                           0.50        30\n",
      "   macro avg       0.46      0.50      0.47        30\n",
      "weighted avg       0.46      0.50      0.47        30\n",
      "\n"
     ]
    }
   ],
   "source": [
    "print(\"\\tbaseline (P infinity) report\")\n",
    "print(classification_report(y_test, y_pred_baseline))"
   ]
  },
  {
   "cell_type": "code",
   "execution_count": 121,
   "metadata": {},
   "outputs": [
    {
     "name": "stdout",
     "output_type": "stream",
     "text": [
      "\tsymmetric P0 report\n",
      "              precision    recall  f1-score   support\n",
      "\n",
      "           1       0.75      1.00      0.86         6\n",
      "           2       0.50      0.17      0.25         6\n",
      "           3       0.57      0.67      0.62         6\n",
      "           4       0.50      0.50      0.50         6\n",
      "           5       0.43      0.50      0.46         6\n",
      "\n",
      "    accuracy                           0.57        30\n",
      "   macro avg       0.55      0.57      0.54        30\n",
      "weighted avg       0.55      0.57      0.54        30\n",
      "\n"
     ]
    }
   ],
   "source": [
    "print(\"\\tsymmetric P0 report\")\n",
    "print(classification_report(y_test, y_pred_p0))"
   ]
  },
  {
   "cell_type": "code",
   "execution_count": 122,
   "metadata": {},
   "outputs": [
    {
     "name": "stdout",
     "output_type": "stream",
     "text": [
      "\tsymmetric P0.5 report\n",
      "              precision    recall  f1-score   support\n",
      "\n",
      "           1       0.75      1.00      0.86         6\n",
      "           2       0.50      0.17      0.25         6\n",
      "           3       0.57      0.67      0.62         6\n",
      "           4       0.50      0.50      0.50         6\n",
      "           5       0.43      0.50      0.46         6\n",
      "\n",
      "    accuracy                           0.57        30\n",
      "   macro avg       0.55      0.57      0.54        30\n",
      "weighted avg       0.55      0.57      0.54        30\n",
      "\n"
     ]
    }
   ],
   "source": [
    "print(\"\\tsymmetric P0.5 report\")\n",
    "print(classification_report(y_test, y_pred_p05))"
   ]
  },
  {
   "cell_type": "code",
   "execution_count": 123,
   "metadata": {},
   "outputs": [
    {
     "name": "stdout",
     "output_type": "stream",
     "text": [
      "\tsymmetric P1 report\n",
      "              precision    recall  f1-score   support\n",
      "\n",
      "           1       0.75      1.00      0.86         6\n",
      "           2       0.50      0.17      0.25         6\n",
      "           3       0.57      0.67      0.62         6\n",
      "           4       0.50      0.50      0.50         6\n",
      "           5       0.43      0.50      0.46         6\n",
      "\n",
      "    accuracy                           0.57        30\n",
      "   macro avg       0.55      0.57      0.54        30\n",
      "weighted avg       0.55      0.57      0.54        30\n",
      "\n"
     ]
    }
   ],
   "source": [
    "print(\"\\tsymmetric P1 report\")\n",
    "print(classification_report(y_test, y_pred_p1))"
   ]
  },
  {
   "cell_type": "code",
   "execution_count": 124,
   "metadata": {},
   "outputs": [
    {
     "name": "stdout",
     "output_type": "stream",
     "text": [
      "\tsymmetric P2 report\n",
      "              precision    recall  f1-score   support\n",
      "\n",
      "           1       0.75      1.00      0.86         6\n",
      "           2       0.33      0.17      0.22         6\n",
      "           3       0.57      0.67      0.62         6\n",
      "           4       0.50      0.50      0.50         6\n",
      "           5       0.33      0.33      0.33         6\n",
      "\n",
      "    accuracy                           0.53        30\n",
      "   macro avg       0.50      0.53      0.51        30\n",
      "weighted avg       0.50      0.53      0.51        30\n",
      "\n"
     ]
    }
   ],
   "source": [
    "print(\"\\tsymmetric P2 report\")\n",
    "print(classification_report(y_test, y_pred_p2))"
   ]
  },
  {
   "attachments": {},
   "cell_type": "markdown",
   "metadata": {},
   "source": [
    "### accuracy comparision"
   ]
  },
  {
   "cell_type": "code",
   "execution_count": 125,
   "metadata": {},
   "outputs": [
    {
     "data": {
      "image/png": "[encoded data removed]",
      "text/plain": [
       "<Figure size 640x480 with 1 Axes>"
      ]
     },
     "metadata": {},
     "output_type": "display_data"
    }
   ],
   "source": [
    "# plot the accuracy score for each p\n",
    "x = [0, 0.5, 1, 2]\n",
    "y = [p0_score, p05_score, p1_score, p2_score]\n",
    "\n",
    "fig, ax = plt.subplots()\n",
    "\n",
    "ax.set_xlim([0, 4])\n",
    "ax.plot(x, y, 'o-r')\n",
    "ax.axhline(y=baseline_score, xmin=0.0, xmax=1.0, color='g')\n",
    "\n",
    "plt.show()"
   ]
  },
  {
   "attachments": {},
   "cell_type": "markdown",
   "metadata": {},
   "source": [
    "## ECG200 Dataset"
   ]
  },
  {
   "cell_type": "code",
   "execution_count": 126,
   "metadata": {},
   "outputs": [],
   "source": [
    "X_train, y_train = load_dataset('data/ECG200_TRAIN', train=True) \n",
    "X_test, y_test = load_dataset('data/ECG200_TEST')"
   ]
  },
  {
   "cell_type": "code",
   "execution_count": 127,
   "metadata": {},
   "outputs": [
    {
     "name": "stdout",
     "output_type": "stream",
     "text": [
      "(100, 96)\n",
      "(100, 96)\n"
     ]
    }
   ],
   "source": [
    "print(X_train.shape)\n",
    "print(X_test.shape)"
   ]
  },
  {
   "cell_type": "code",
   "execution_count": 128,
   "metadata": {},
   "outputs": [],
   "source": [
    "baseline = KNeighborsClassifier(metric=dtw_rigid, n_neighbors=1, n_jobs=-1) # Pinf\n",
    "clf_p0 = KNeighborsClassifier(metric=dtw_symmetricP0, n_neighbors=1,n_jobs=-1)\n",
    "clf_p05 = KNeighborsClassifier(metric=dtw_symmetricP05, n_neighbors=1,n_jobs=-1)\n",
    "clf_p1 = KNeighborsClassifier(metric=dtw_symmetricP1, n_neighbors=1,n_jobs=-1)\n",
    "clf_p2 = KNeighborsClassifier(metric=dtw_symmetricP2, n_neighbors=1,n_jobs=-1)"
   ]
  },
  {
   "cell_type": "code",
   "execution_count": 129,
   "metadata": {},
   "outputs": [
    {
     "data": {
      "text/html": [
       "<style>#sk-container-id-13 {color: black;background-color: white;}#sk-container-id-13 pre{padding: 0;}#sk-container-id-13 div.sk-toggleable {background-color: white;}#sk-container-id-13 label.sk-toggleable__label {cursor: pointer;display: block;width: 100%;margin-bottom: 0;padding: 0.3em;box-sizing: border-box;text-align: center;}#sk-container-id-13 label.sk-toggleable__label-arrow:before {content: \"▸\";float: left;margin-right: 0.25em;color: #696969;}#sk-container-id-13 label.sk-toggleable__label-arrow:hover:before {color: black;}#sk-container-id-13 div.sk-estimator:hover label.sk-toggleable__label-arrow:before {color: black;}#sk-container-id-13 div.sk-toggleable__content {max-height: 0;max-width: 0;overflow: hidden;text-align: left;background-color: #f0f8ff;}#sk-container-id-13 div.sk-toggleable__content pre {margin: 0.2em;color: black;border-radius: 0.25em;background-color: #f0f8ff;}#sk-container-id-13 input.sk-toggleable__control:checked~div.sk-toggleable__content {max-height: 200px;max-width: 100%;overflow: auto;}#sk-container-id-13 input.sk-toggleable__control:checked~label.sk-toggleable__label-arrow:before {content: \"▾\";}#sk-container-id-13 div.sk-estimator input.sk-toggleable__control:checked~label.sk-toggleable__label {background-color: #d4ebff;}#sk-container-id-13 div.sk-label input.sk-toggleable__control:checked~label.sk-toggleable__label {background-color: #d4ebff;}#sk-container-id-13 input.sk-hidden--visually {border: 0;clip: rect(1px 1px 1px 1px);clip: rect(1px, 1px, 1px, 1px);height: 1px;margin: -1px;overflow: hidden;padding: 0;position: absolute;width: 1px;}#sk-container-id-13 div.sk-estimator {font-family: monospace;background-color: #f0f8ff;border: 1px dotted black;border-radius: 0.25em;box-sizing: border-box;margin-bottom: 0.5em;}#sk-container-id-13 div.sk-estimator:hover {background-color: #d4ebff;}#sk-container-id-13 div.sk-parallel-item::after {content: \"\";width: 100%;border-bottom: 1px solid gray;flex-grow: 1;}#sk-container-id-13 div.sk-label:hover label.sk-toggleable__label {background-color: #d4ebff;}#sk-container-id-13 div.sk-serial::before {content: \"\";position: absolute;border-left: 1px solid gray;box-sizing: border-box;top: 0;bottom: 0;left: 50%;z-index: 0;}#sk-container-id-13 div.sk-serial {display: flex;flex-direction: column;align-items: center;background-color: white;padding-right: 0.2em;padding-left: 0.2em;position: relative;}#sk-container-id-13 div.sk-item {position: relative;z-index: 1;}#sk-container-id-13 div.sk-parallel {display: flex;align-items: stretch;justify-content: center;background-color: white;position: relative;}#sk-container-id-13 div.sk-item::before, #sk-container-id-13 div.sk-parallel-item::before {content: \"\";position: absolute;border-left: 1px solid gray;box-sizing: border-box;top: 0;bottom: 0;left: 50%;z-index: -1;}#sk-container-id-13 div.sk-parallel-item {display: flex;flex-direction: column;z-index: 1;position: relative;background-color: white;}#sk-container-id-13 div.sk-parallel-item:first-child::after {align-self: flex-end;width: 50%;}#sk-container-id-13 div.sk-parallel-item:last-child::after {align-self: flex-start;width: 50%;}#sk-container-id-13 div.sk-parallel-item:only-child::after {width: 0;}#sk-container-id-13 div.sk-dashed-wrapped {border: 1px dashed gray;margin: 0 0.4em 0.5em 0.4em;box-sizing: border-box;padding-bottom: 0.4em;background-color: white;}#sk-container-id-13 div.sk-label label {font-family: monospace;font-weight: bold;display: inline-block;line-height: 1.2em;}#sk-container-id-13 div.sk-label-container {text-align: center;}#sk-container-id-13 div.sk-container {/* jupyter's `normalize.less` sets `[hidden] { display: none; }` but bootstrap.min.css set `[hidden] { display: none !important; }` so we also need the `!important` here to be able to override the default hidden behavior on the sphinx rendered scikit-learn.org. See: https://github.com/scikit-learn/scikit-learn/issues/21755 */display: inline-block !important;position: relative;}#sk-container-id-13 div.sk-text-repr-fallback {display: none;}</style><div id=\"sk-container-id-13\" class=\"sk-top-container\"><div class=\"sk-text-repr-fallback\"><pre>KNeighborsClassifier(metric=&lt;function &lt;lambda&gt; at 0x00000296F50F15A0&gt;,\n",
       "                     n_jobs=-1, n_neighbors=1)</pre><b>In a Jupyter environment, please rerun this cell to show the HTML representation or trust the notebook. <br />On GitHub, the HTML representation is unable to render, please try loading this page with nbviewer.org.</b></div><div class=\"sk-container\" hidden><div class=\"sk-item\"><div class=\"sk-estimator sk-toggleable\"><input class=\"sk-toggleable__control sk-hidden--visually\" id=\"sk-estimator-id-13\" type=\"checkbox\" checked><label for=\"sk-estimator-id-13\" class=\"sk-toggleable__label sk-toggleable__label-arrow\">KNeighborsClassifier</label><div class=\"sk-toggleable__content\"><pre>KNeighborsClassifier(metric=&lt;function &lt;lambda&gt; at 0x00000296F50F15A0&gt;,\n",
       "                     n_jobs=-1, n_neighbors=1)</pre></div></div></div></div></div>"
      ],
      "text/plain": [
       "KNeighborsClassifier(metric=<function <lambda> at 0x00000296F50F15A0>,\n",
       "                     n_jobs=-1, n_neighbors=1)"
      ]
     },
     "execution_count": 129,
     "metadata": {},
     "output_type": "execute_result"
    }
   ],
   "source": [
    "baseline.fit(X_train, y_train)\n",
    "clf_p0.fit(X_train, y_train)\n",
    "clf_p05.fit(X_train, y_train)\n",
    "clf_p1.fit(X_train, y_train)\n",
    "clf_p2.fit(X_train, y_train)"
   ]
  },
  {
   "cell_type": "code",
   "execution_count": 130,
   "metadata": {},
   "outputs": [],
   "source": [
    "y_pred_baseline = baseline.predict(X_test)"
   ]
  },
  {
   "cell_type": "code",
   "execution_count": 131,
   "metadata": {},
   "outputs": [],
   "source": [
    "y_pred_p0 = clf_p0.predict(X_test)\n",
    "y_pred_p05 = clf_p05.predict(X_test)\n",
    "y_pred_p1 = clf_p1.predict(X_test)\n",
    "y_pred_p2 = clf_p2.predict(X_test)"
   ]
  },
  {
   "cell_type": "code",
   "execution_count": 132,
   "metadata": {},
   "outputs": [],
   "source": [
    "baseline_score = accuracy_score(y_test, y_pred_baseline)\n",
    "p0_score = accuracy_score(y_test, y_pred_p0)\n",
    "p05_score = accuracy_score(y_test, y_pred_p05)\n",
    "p1_score = accuracy_score(y_test, y_pred_p1)\n",
    "p2_score = accuracy_score(y_test, y_pred_p2)"
   ]
  },
  {
   "attachments": {},
   "cell_type": "markdown",
   "metadata": {},
   "source": [
    "### classification report"
   ]
  },
  {
   "cell_type": "code",
   "execution_count": 133,
   "metadata": {},
   "outputs": [
    {
     "name": "stdout",
     "output_type": "stream",
     "text": [
      "\tsymmetric P0 report\n",
      "              precision    recall  f1-score   support\n",
      "\n",
      "          -1       0.75      0.75      0.75        36\n",
      "           1       0.86      0.86      0.86        64\n",
      "\n",
      "    accuracy                           0.82       100\n",
      "   macro avg       0.80      0.80      0.80       100\n",
      "weighted avg       0.82      0.82      0.82       100\n",
      "\n"
     ]
    }
   ],
   "source": [
    "print(\"\\tsymmetric P0 report\")\n",
    "print(classification_report(y_test, y_pred_p0))"
   ]
  },
  {
   "cell_type": "code",
   "execution_count": 134,
   "metadata": {},
   "outputs": [
    {
     "name": "stdout",
     "output_type": "stream",
     "text": [
      "\tsymmetric P0.5 report\n",
      "              precision    recall  f1-score   support\n",
      "\n",
      "          -1       0.81      0.72      0.76        36\n",
      "           1       0.85      0.91      0.88        64\n",
      "\n",
      "    accuracy                           0.84       100\n",
      "   macro avg       0.83      0.81      0.82       100\n",
      "weighted avg       0.84      0.84      0.84       100\n",
      "\n"
     ]
    }
   ],
   "source": [
    "print(\"\\tsymmetric P0.5 report\")\n",
    "print(classification_report(y_test, y_pred_p05))"
   ]
  },
  {
   "cell_type": "code",
   "execution_count": 135,
   "metadata": {},
   "outputs": [
    {
     "name": "stdout",
     "output_type": "stream",
     "text": [
      "\tsymmetric P1 report\n",
      "              precision    recall  f1-score   support\n",
      "\n",
      "          -1       0.82      0.78      0.80        36\n",
      "           1       0.88      0.91      0.89        64\n",
      "\n",
      "    accuracy                           0.86       100\n",
      "   macro avg       0.85      0.84      0.85       100\n",
      "weighted avg       0.86      0.86      0.86       100\n",
      "\n"
     ]
    }
   ],
   "source": [
    "print(\"\\tsymmetric P1 report\")\n",
    "print(classification_report(y_test, y_pred_p1))"
   ]
  },
  {
   "cell_type": "code",
   "execution_count": 136,
   "metadata": {},
   "outputs": [
    {
     "name": "stdout",
     "output_type": "stream",
     "text": [
      "\tsymmetric P2 report\n",
      "              precision    recall  f1-score   support\n",
      "\n",
      "          -1       0.82      0.75      0.78        36\n",
      "           1       0.87      0.91      0.89        64\n",
      "\n",
      "    accuracy                           0.85       100\n",
      "   macro avg       0.84      0.83      0.83       100\n",
      "weighted avg       0.85      0.85      0.85       100\n",
      "\n"
     ]
    }
   ],
   "source": [
    "print(\"\\tsymmetric P2 report\")\n",
    "print(classification_report(y_test, y_pred_p2))"
   ]
  },
  {
   "attachments": {},
   "cell_type": "markdown",
   "metadata": {},
   "source": [
    "### accuracy comparision"
   ]
  },
  {
   "cell_type": "code",
   "execution_count": 137,
   "metadata": {},
   "outputs": [
    {
     "data": {
      "image/png": "[encoded data removed]",
      "text/plain": [
       "<Figure size 640x480 with 1 Axes>"
      ]
     },
     "metadata": {},
     "output_type": "display_data"
    }
   ],
   "source": [
    "# plot the accuracy score for each p\n",
    "x = [0, 0.5, 1, 2]\n",
    "y = [p0_score, p05_score, p1_score, p2_score]\n",
    "\n",
    "fig, ax = plt.subplots()\n",
    "\n",
    "ax.set_xlim([0, 4])\n",
    "ax.plot(x, y, 'o-r')\n",
    "ax.axhline(y=baseline_score, xmin=0.0, xmax=1.0, color='g')\n",
    "\n",
    "plt.show()"
   ]
  }
 ],
 "metadata": {
  "kernelspec": {
   "display_name": "base",
   "language": "python",
   "name": "python3"
  },
  "language_info": {
   "codemirror_mode": {
    "name": "ipython",
    "version": 3
   },
   "file_extension": ".py",
   "mimetype": "text/x-python",
   "name": "python",
   "nbconvert_exporter": "python",
   "pygments_lexer": "ipython3",
   "version": "3.10.8"
  },
  "orig_nbformat": 4
 },
 "nbformat": 4,
 "nbformat_minor": 2
}
